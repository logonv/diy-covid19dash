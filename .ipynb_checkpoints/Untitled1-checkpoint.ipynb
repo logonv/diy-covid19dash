{
 "cells": [
  {
   "cell_type": "code",
   "execution_count": null,
   "metadata": {},
   "outputs": [],
   "source": [
    "from uk_covid19 import Cov19API\n",
    "import json\n",
    "import pandas as pd\n",
    "import matplotlib.pyplot as plt\n",
    "import ipywidgets as wdg\n",
    "from ipywidgets import Layout, Button, Box, GridspecLayout\n",
    "from IPython.display import Markdown, display, HTML\n",
    "\n",
    "# an iPython  \"magic\" that enables the embedding of matplotlib output\n",
    "%matplotlib inline\n",
    "# make figures larger\n",
    "plt.rcParams['figure.dpi'] = 150\n",
    "\n",
    "def printmd(string):\n",
    "    display(Markdown(string))"
   ]
  },
  {
   "cell_type": "code",
   "execution_count": null,
   "metadata": {},
   "outputs": [],
   "source": [
    "#with open(\"date_case_adm_death.json\", \"rt\") as INFILE:\n",
    "#    rawdata1=json.load(INFILE)"
   ]
  },
  {
   "cell_type": "code",
   "execution_count": null,
   "metadata": {},
   "outputs": [],
   "source": [
    "rawdata1={}"
   ]
  },
  {
   "cell_type": "code",
   "execution_count": null,
   "metadata": {},
   "outputs": [],
   "source": [
    "filters = [\n",
    "    'areaType=overview' # note each metric-value pair is inside one string\n",
    "]\n",
    "\n",
    "structure = {\n",
    "    \"date\": \"date\",\n",
    "    \"noOfNewCases\": \"newCasesByPublishDate\",\n",
    "    \"cases\": \"cumCasesByPublishDate\",\n",
    "    \"noOfNewHospitalAdmissions\": \"newAdmissions\",\n",
    "    \"admissions\": \"cumAdmissions\",\n",
    "    \"noOfNewDeaths\": \"newDeaths28DaysByDeathDate\",\n",
    "    \"deaths\": \"cumDeaths28DaysByDeathDate\"    \n",
    "}"
   ]
  },
  {
   "cell_type": "code",
   "execution_count": null,
   "metadata": {},
   "outputs": [],
   "source": [
    "output = wdg.Output()\n",
    "\n",
    "@output.capture(clear_output=False,wait=True)\n",
    "def access_api1(button):\n",
    "    # Ignore the parameter, put code for polling the API here\n",
    "    api = Cov19API(filters=filters, structure=structure)\n",
    "    printmd(\"I'm downloading data from the API...\")\n",
    "    try:\n",
    "        rawdata1 = api.get_json()\n",
    "        printmd(\"...all done.\")\n",
    "        #display(\"...\")\n",
    "    except:\n",
    "        #display(\"aaa..\")\n",
    "        printmd(\"Unable to update data\")\n",
    "    global df1\n",
    "    df1=wrangle_data_graph1(rawdata1)\n",
    "    refresh_graph()\n",
    "    \n",
    "    \n",
    "        \n",
    "apibutton=wdg.Button(\n",
    "    description='Refresh data',\n",
    "    disabled=False,\n",
    "    button_style='', # 'success', 'info', 'warning', 'danger' or ''\n",
    "    tooltip='Click to download current Public Health England data',\n",
    "    icon='download' # (FontAwesome names without the `fa-` prefix)\n",
    ")\n",
    "\n",
    "# register the callback function with the button\n",
    "apibutton.on_click(access_api1)\n",
    "\n",
    "# this is an iPython function that generalises print for Jupyter Notebooks; we use it to \n",
    "# display the widgets\n",
    "display(apibutton)\n",
    "output"
   ]
  },
  {
   "cell_type": "code",
   "execution_count": null,
   "metadata": {},
   "outputs": [],
   "source": []
  },
  {
   "cell_type": "code",
   "execution_count": null,
   "metadata": {},
   "outputs": [],
   "source": []
  },
  {
   "cell_type": "code",
   "execution_count": null,
   "metadata": {},
   "outputs": [],
   "source": []
  },
  {
   "cell_type": "code",
   "execution_count": null,
   "metadata": {},
   "outputs": [],
   "source": []
  },
  {
   "cell_type": "code",
   "execution_count": null,
   "metadata": {},
   "outputs": [],
   "source": []
  },
  {
   "cell_type": "code",
   "execution_count": null,
   "metadata": {},
   "outputs": [],
   "source": []
  },
  {
   "cell_type": "code",
   "execution_count": null,
   "metadata": {},
   "outputs": [],
   "source": []
  },
  {
   "cell_type": "code",
   "execution_count": null,
   "metadata": {},
   "outputs": [],
   "source": []
  },
  {
   "cell_type": "code",
   "execution_count": null,
   "metadata": {},
   "outputs": [],
   "source": []
  }
 ],
 "metadata": {
  "kernelspec": {
   "display_name": "Python 3",
   "language": "python",
   "name": "python3"
  },
  "language_info": {
   "codemirror_mode": {
    "name": "ipython",
    "version": 3
   },
   "file_extension": ".py",
   "mimetype": "text/x-python",
   "name": "python",
   "nbconvert_exporter": "python",
   "pygments_lexer": "ipython3",
   "version": "3.8.3"
  }
 },
 "nbformat": 4,
 "nbformat_minor": 4
}
