{
 "cells": [
  {
   "cell_type": "markdown",
   "metadata": {},
   "source": [
    "(C) Logan Vasudea, 2020 "
   ]
  },
  {
   "cell_type": "markdown",
   "metadata": {},
   "source": [
    "# Logan's DIY Covid-19 Dashboard"
   ]
  },
  {
   "cell_type": "markdown",
   "metadata": {},
   "source": [
    "This Covid dashboard will use Python and the data published by Public Health England to analyse how Covid-19 has affected the UK.\n"
   ]
  },
  {
   "cell_type": "code",
   "execution_count": null,
   "metadata": {},
   "outputs": [],
   "source": [
    "from uk_covid19 import Cov19API\n",
    "import datetime\n",
    "import json\n",
    "import pandas as pd\n",
    "import matplotlib.pyplot as plt\n",
    "import ipywidgets as wdg\n",
    "#from ipywidgets import Layout, Button, Box, GridspecLayout\n",
    "from IPython.display import Markdown, display, HTML\n",
    "\n",
    "# an iPython  \"magic\" that enables the embedding of matplotlib output\n",
    "%matplotlib inline\n",
    "# make figures larger\n",
    "plt.rcParams['figure.dpi'] = 150\n",
    "\n",
    "def printmd(string):\n",
    "    \"\"\"Prints in markdown format\"\"\"\n",
    "    display(Markdown(string))"
   ]
  },
  {
   "cell_type": "code",
   "execution_count": null,
   "metadata": {},
   "outputs": [],
   "source": [
    "def parse_date(datestring):\n",
    "    \"\"\" Convert a date string into a pandas datetime object \"\"\"\n",
    "    return pd.to_datetime(datestring, format=\"%Y-%m-%d\")"
   ]
  },
  {
   "cell_type": "code",
   "execution_count": null,
   "metadata": {},
   "outputs": [],
   "source": [
    "def column_rename(df,rename_dict):\n",
    "    \"\"\"Renames columns in a data frame when given a dictionary for renaming\"\"\"\n",
    "    df.rename(columns=rename_dict, inplace=True)"
   ]
  },
  {
   "cell_type": "code",
   "execution_count": null,
   "metadata": {},
   "outputs": [],
   "source": [
    "# Loads json file for date vs no. of cumulative cases, admissions, deaths, and no. of new cases, admissions, deaths\n",
    "# Above data will be stored in df1\n",
    "with open(\"date_case_adm_death.json\", \"rt\") as INFILE:\n",
    "    rawdata1=json.load(INFILE)\n",
    " \n"
   ]
  },
  {
   "cell_type": "code",
   "execution_count": null,
   "metadata": {},
   "outputs": [],
   "source": [
    "#the dictionaries for renaming the columns in df1 \n",
    "\n",
    "def wrangle_data1(data):\n",
    "    \"\"\" Returns a dataframe from json data for:\n",
    "    date vs no. of cumulative cases, admissions, deaths, and no. of new cases, admissions, deaths. \"\"\"\n",
    "    legend_to_struct_dictionary1={\n",
    "        \"Number of cases\":\"cases\",\n",
    "        \"Number of admissions\":\"admissions\",\n",
    "        \"Number of deaths\":\"deaths\",\n",
    "        \"Date\": \"date\",\n",
    "        \"Number of new cases\":\"noOfNewCases\",\n",
    "        \"Number of new Hospital Admissions\":\"noOfNewHospitalAdmissions\",\n",
    "        \"Number of new deaths\":\"noOfNewDeaths\"\n",
    "    }\n",
    "    struct_to_legend_dictionary1=dict(list(zip(legend_to_struct_dictionary1.values(), legend_to_struct_dictionary1.keys())))\n",
    "\n",
    "\n",
    "    datalist=data[\"data\"]\n",
    "    dates=[dictionary['date'] for dictionary in datalist ]\n",
    "    dates.sort()\n",
    "    startdate=parse_date(dates[0])\n",
    "    enddate=parse_date(dates[-1])\n",
    "    index=pd.date_range(startdate, enddate, freq='D')\n",
    "    columns_list=['noOfNewCases','cases', 'noOfNewHospitalAdmissions','admissions', 'noOfNewDeaths', 'deaths' ]\n",
    "    date_case_adm_death_df=pd.DataFrame(index=index, columns=columns_list)\n",
    "    \n",
    "    for entry in datalist: # each entry is a dictionary with date, cases, hospital and deaths\n",
    "        date=parse_date(entry['date'])\n",
    "        for column in columns_list:\n",
    "            #if pd.isna(date_case_adm_death_df.loc[date, column]): \n",
    "            #excluded above line as decided to update all data each time as data may change\n",
    "            #None values wil be NaN in the dataframe as this data has not been made available by PHE. \n",
    "            #It is likely that they will be updated later for these dates\n",
    "                if entry[column]!=None: \n",
    "                    value= float(entry[column])\n",
    "                    date_case_adm_death_df.loc[date, column]=value\n",
    "    \n",
    "    column_rename(date_case_adm_death_df,struct_to_legend_dictionary1)\n",
    "    return date_case_adm_death_df\n",
    "\n"
   ]
  },
  {
   "cell_type": "code",
   "execution_count": null,
   "metadata": {},
   "outputs": [],
   "source": [
    "df1=wrangle_data1(rawdata1) #creates dataframe for rawdata11"
   ]
  },
  {
   "cell_type": "code",
   "execution_count": null,
   "metadata": {},
   "outputs": [],
   "source": [
    "#The filters and structure for the API call for the first graph\n",
    "\n",
    "filters1 = [\n",
    "    'areaType=overview' # note each metric-value pair is inside one string\n",
    "]\n",
    "\n",
    "structure1 = {\n",
    "    \"date\": \"date\",\n",
    "    \"noOfNewCases\": \"newCasesByPublishDate\",\n",
    "    \"cases\": \"cumCasesByPublishDate\",\n",
    "    \"noOfNewHospitalAdmissions\": \"newAdmissions\",\n",
    "    \"admissions\": \"cumAdmissions\",\n",
    "    \"noOfNewDeaths\": \"newDeaths28DaysByDeathDate\",\n",
    "    \"deaths\": \"cumDeaths28DaysByDeathDate\"    \n",
    "}"
   ]
  },
  {
   "cell_type": "code",
   "execution_count": null,
   "metadata": {},
   "outputs": [],
   "source": [
    "output1 = wdg.Output() #creates widget output object\n",
    "\n",
    "@output1.capture(clear_output=True,wait=True)\n",
    "def access_api1(button):\n",
    "    \"\"\"Accessing API for graph1 and updating dataframe \"\"\"\n",
    "    filters1 = [\n",
    "        'areaType=overview' # note each metric-value pair is inside one string\n",
    "    ]\n",
    "    structure1 = {\n",
    "        \"date\": \"date\",\n",
    "        \"noOfNewCases\": \"newCasesByPublishDate\",\n",
    "        \"cases\": \"cumCasesByPublishDate\",\n",
    "        \"noOfNewHospitalAdmissions\": \"newAdmissions\",\n",
    "        \"admissions\": \"cumAdmissions\",\n",
    "        \"noOfNewDeaths\": \"newDeaths28DaysByDeathDate\",\n",
    "        \"deaths\": \"cumDeaths28DaysByDeathDate\"    \n",
    "    }\n",
    "    \n",
    "    api1 = Cov19API(filters=filters1, structure=structure1)\n",
    "    printmd(\"I'm downloading data from the API...\")\n",
    "    try:\n",
    "        rawdata1 = api1.get_json()\n",
    "        printmd(\"...all done.\")\n",
    "        now=datetime.datetime.now().strftime(\"%d/%m/%Y %H:%M:%S\").split()\n",
    "        printmd(\"Data refreshed on \" + now[0] + \" at \" + now[1])\n",
    "    except:\n",
    "        printmd(\"Unable to update data\")\n",
    "        \n",
    "    try: \n",
    "        with open(\"date_case_adm_death.json\", \"wt\") as OUTFILE:\n",
    "            json.dump(rawdata1, OUTFILE)\n",
    "    except:\n",
    "        printmd(\"Unable to update json\")\n",
    "    global df1\n",
    "    df1=wrangle_data1(rawdata1)\n",
    "    refresh_graph1()\n",
    "    refresh_graph2()\n",
    "\n",
    "\n",
    "    \n",
    "    \n",
    "#the button        \n",
    "apibutton=wdg.Button(\n",
    "    description='Refresh data',\n",
    "    disabled=False,\n",
    "    button_style='', # 'success', 'info', 'warning', 'danger' or ''\n",
    "    tooltip='Click to download current Public Health England data',\n",
    "    icon='download' # (FontAwesome names without the `fa-` prefix)\n",
    ")\n",
    "\n",
    "# register the callback function with the button\n",
    "apibutton.on_click(access_api1)\n",
    "\n",
    "# this is an iPython function that generalises print for Jupyter Notebooks; we use it to \n",
    "# display the widgets\n",
    "display(apibutton)\n",
    "output1"
   ]
  },
  {
   "cell_type": "code",
   "execution_count": null,
   "metadata": {},
   "outputs": [],
   "source": [
    "for col in df1.columns:\n",
    "    df1[col].values[:] = 1"
   ]
  },
  {
   "cell_type": "markdown",
   "metadata": {},
   "source": [
    "## Cumulative Totals of Cases, Admissions and Deaths"
   ]
  },
  {
   "cell_type": "markdown",
   "metadata": {},
   "source": [
    "Below is a graph showing the cumulative totals of cases, hospital admissions and deaths in the UK. As of late November 2020, there have been over a million cases with 200,000 of those admitted to hospital. Sadly, there have been over 60,000 deaths."
   ]
  },
  {
   "cell_type": "code",
   "execution_count": null,
   "metadata": {},
   "outputs": [],
   "source": [
    "def time_series_graph1(lines):\n",
    "    \"\"\"Function to plot graph 1\"\"\"\n",
    "    n_lines=len(lines)\n",
    "    \n",
    "    if n_lines>0:\n",
    "        graph_data_frame=df1[list(lines)]\n",
    "        ax=graph_data_frame.plot()\n",
    "        ax.set_title(\"Cumulative Totals of Important Statistics\")\n",
    "        #ax.ticklabel_format(axis='y', style='plain')\n",
    "       \n",
    "\n",
    "    else:\n",
    "        printmd(\"Select the data you want to print.\")\n",
    "        \n",
    "    "
   ]
  },
  {
   "cell_type": "code",
   "execution_count": null,
   "metadata": {},
   "outputs": [],
   "source": [
    "def num_of_cumulative_cases_text(obs):\n",
    "    \"\"\" Function to explain the drop in cases on the 2nd of July \"\"\"\n",
    "    tup=obs\n",
    "    text=\"\"\n",
    "    for item in tup:\n",
    "        if item=='Number of cases':\n",
    "            text=\"Number of cases refers to the individuals who have had at least one positive COVID-19 test result (either lab-reported or lateral flow device), by date reported. On 2 July, case data from Pillars 1 and 2 of the testing programme were combined and de-duplicated, resulting in a step decrease in the cumulative number of cases reported.\"\n",
    "    printmd(text)"
   ]
  },
  {
   "cell_type": "code",
   "execution_count": null,
   "metadata": {},
   "outputs": [],
   "source": [
    "lines_to_print1=wdg.SelectMultiple(\n",
    "    options=[\"Number of cases\", \"Number of admissions\", \"Number of deaths\"],\n",
    "    value=[\"Number of cases\", \"Number of admissions\", \"Number of deaths\"],\n",
    "    rows=3,\n",
    "    description='Stats:',\n",
    "    disabled=False\n",
    "    \n",
    ")\n",
    "\n",
    "graph1=wdg.interactive_output(time_series_graph1, {'lines':lines_to_print1})\n",
    "text_to_print1=wdg.interactive_output(num_of_cumulative_cases_text, {'obs':lines_to_print1})"
   ]
  },
  {
   "cell_type": "code",
   "execution_count": null,
   "metadata": {},
   "outputs": [],
   "source": [
    "grid1=wdg.GridspecLayout(5,2)\n",
    "grid1[:,0]=graph1\n",
    "grid1[2:,1] = text_to_print1\n",
    "grid1[1,1] = lines_to_print1"
   ]
  },
  {
   "cell_type": "code",
   "execution_count": null,
   "metadata": {},
   "outputs": [],
   "source": [
    "display(grid1)"
   ]
  },
  {
   "cell_type": "code",
   "execution_count": null,
   "metadata": {},
   "outputs": [],
   "source": [
    "def refresh_graph1():\n",
    "    \"\"\" We change the value of the widget in order to force a redraw of the graph.\"\"\"\n",
    "    current=lines_to_print1.value\n",
    "    if current==lines_to_print1.options[:]:\n",
    "        other=[]\n",
    "        lines_to_print1.value=other\n",
    "        lines_to_print1.value=current\n",
    "    else:\n",
    "        other=lines_to_print1.options[:]\n",
    "        lines_to_print1.value=other\n"
   ]
  },
  {
   "cell_type": "code",
   "execution_count": null,
   "metadata": {},
   "outputs": [],
   "source": []
  },
  {
   "cell_type": "markdown",
   "metadata": {},
   "source": [
    "## Daily Totals of New Cases, Admissions and Deaths"
   ]
  },
  {
   "cell_type": "markdown",
   "metadata": {},
   "source": [
    "This graph show the number of new cases, hospital admissions or deaths on each day (for the whole of the UK). The UK is currently (as of November) in the middle of a second wave, though thankfully the number of deaths in this second wave is lower. Please note: The dates for the data are the actual date the even occurs, so the data may change as the PHE publish more data."
   ]
  },
  {
   "cell_type": "code",
   "execution_count": null,
   "metadata": {},
   "outputs": [],
   "source": [
    "lines_to_print2=wdg.SelectMultiple(\n",
    "    options=[\"Number of new cases\",\"Number of new Hospital Admissions\", \"Number of new deaths\"],\n",
    "    value=[\"Number of new cases\",\"Number of new Hospital Admissions\", \"Number of new deaths\"],\n",
    "    rows=3,\n",
    "    description='Stats:',\n",
    "    disabled=False\n",
    "    \n",
    ")"
   ]
  },
  {
   "cell_type": "code",
   "execution_count": null,
   "metadata": {},
   "outputs": [],
   "source": [
    "def time_series_graph2(lines):\n",
    "    \"\"\"Function to plot graph 2\"\"\"\n",
    "    n_lines=len(lines)\n",
    "    if n_lines>0:\n",
    "        graph_data_frame=df1[list(lines)]\n",
    "        ax=graph_data_frame.plot()\n",
    "        ax.set_title(\"Daily Totals of Important Statistics\")\n",
    "        #ax.ticklabel_format(axis='y', style='plain')\n",
    "    else:\n",
    "        printmd(\"Select the data you want to print.\")\n",
    "        "
   ]
  },
  {
   "cell_type": "code",
   "execution_count": null,
   "metadata": {},
   "outputs": [],
   "source": [
    "graph2=wdg.interactive_output(time_series_graph2, {'lines':lines_to_print2})\n",
    "grid2=wdg.GridspecLayout(5,2)\n",
    "grid2[:,0]=graph2\n",
    "#grid[2:,1] = text_to_print1\n",
    "grid2[1,1] = lines_to_print2\n",
    "\n",
    "display(grid2)"
   ]
  },
  {
   "cell_type": "code",
   "execution_count": null,
   "metadata": {},
   "outputs": [],
   "source": [
    "def refresh_graph2():\n",
    "    \"\"\" We change the value of the widget in order to force a redraw of the graph;\n",
    "    this is useful when the data have been updated. This is a bit of a gimmick; it\n",
    "    needs to be customised for one of your widgets. \"\"\"\n",
    "    current=lines_to_print2.value\n",
    "    if current==lines_to_print2.options[:]:\n",
    "        other=[]\n",
    "        lines_to_print2.value=other\n",
    "        lines_to_print2.value=current\n",
    "    else:\n",
    "        other=lines_to_print2.options[:]\n",
    "        lines_to_print2.value=other"
   ]
  },
  {
   "cell_type": "code",
   "execution_count": null,
   "metadata": {},
   "outputs": [],
   "source": []
  },
  {
   "cell_type": "code",
   "execution_count": null,
   "metadata": {},
   "outputs": [],
   "source": []
  },
  {
   "cell_type": "code",
   "execution_count": null,
   "metadata": {},
   "outputs": [],
   "source": []
  },
  {
   "cell_type": "code",
   "execution_count": null,
   "metadata": {},
   "outputs": [],
   "source": []
  },
  {
   "cell_type": "code",
   "execution_count": null,
   "metadata": {},
   "outputs": [],
   "source": []
  },
  {
   "cell_type": "code",
   "execution_count": null,
   "metadata": {},
   "outputs": [],
   "source": []
  }
 ],
 "metadata": {
  "kernelspec": {
   "display_name": "Python 3",
   "language": "python",
   "name": "python3"
  },
  "language_info": {
   "codemirror_mode": {
    "name": "ipython",
    "version": 3
   },
   "file_extension": ".py",
   "mimetype": "text/x-python",
   "name": "python",
   "nbconvert_exporter": "python",
   "pygments_lexer": "ipython3",
   "version": "3.8.3"
  }
 },
 "nbformat": 4,
 "nbformat_minor": 4
}
