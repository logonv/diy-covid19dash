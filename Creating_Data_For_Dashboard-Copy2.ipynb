{
 "cells": [
  {
   "cell_type": "code",
   "execution_count": 2,
   "metadata": {
    "scrolled": true
   },
   "outputs": [],
   "source": [
    "from uk_covid19 import Cov19API\n",
    "import json\n",
    "import pandas as pd\n",
    "import matplotlib.pyplot as plt\n",
    "import ipywidgets as wdg\n",
    "from ipywidgets import Layout, Button, Box, GridspecLayout\n",
    "\n",
    "# an iPython  \"magic\" that enables the embedding of matplotlib output\n",
    "%matplotlib inline\n",
    "# make figures larger\n",
    "plt.rcParams['figure.dpi'] = 150\n"
   ]
  },
  {
   "cell_type": "code",
   "execution_count": 2,
   "metadata": {
    "scrolled": true
   },
   "outputs": [],
   "source": [
    "from IPython.display import Markdown, display, HTML\n",
    "def printmd(string):\n",
    "    display(Markdown(string))"
   ]
  },
  {
   "cell_type": "code",
   "execution_count": 3,
   "metadata": {
    "scrolled": true
   },
   "outputs": [],
   "source": [
    "def parse_date(datestring):\n",
    "    \"\"\" Convert a date string into a pandas datetime object \"\"\"\n",
    "    return pd.to_datetime(datestring, format=\"%Y-%m-%d\")"
   ]
  },
  {
   "cell_type": "code",
   "execution_count": 4,
   "metadata": {
    "scrolled": true
   },
   "outputs": [],
   "source": [
    "def time_series_graph(lines):\n",
    "    n_lines=len(lines)\n",
    "    if n_lines>0:\n",
    "        graph_data_frame=data[list(lines)]\n",
    "        ax=graph_data_frame.plot()\n",
    "        ax.set_title(\"Cumulative Totals of Important Statistics\")\n",
    "        #print(a(lines))\n",
    "        #global text_to_print\n",
    "        #text_to_print=a(lines)\n",
    "    else:\n",
    "        print(\"Select the data you want to print.\")\n",
    "        \n",
    "    "
   ]
  },
  {
   "cell_type": "code",
   "execution_count": 5,
   "metadata": {
    "scrolled": true
   },
   "outputs": [],
   "source": [
    "def num_of_cumulative_cases_text(obs):\n",
    "    tup=obs\n",
    "    #global text\n",
    "    text=\"\"\n",
    "    for item in tup:\n",
    "        if item=='Number of cases':\n",
    "            text=\"Number of cases refers to the individuals who have had at least one positive COVID-19 test result (either lab-reported or lateral flow device), by date reported. On 2 July, case data from pillars 1 and 2 of the testing programme were combined and de-duplicated, resulting in a step decrease in the cumulative number of cases reported.\"\n",
    "    printmd(text)\n",
    "\n",
    "\n",
    "    "
   ]
  },
  {
   "cell_type": "code",
   "execution_count": 5,
   "metadata": {
    "scrolled": true
   },
   "outputs": [],
   "source": [
    "data = pd.read_pickle('date_case_adm_death_df.pkl')\n"
   ]
  },
  {
   "cell_type": "code",
   "execution_count": 6,
   "metadata": {
    "scrolled": true
   },
   "outputs": [],
   "source": [
    "legend_to_struct_dictionary={\n",
    "    \"Number of cases\":\"cases\",\n",
    "    \"Number of admissions\":\"admissions\",\n",
    "    \"Number of deaths\":\"deaths\",\n",
    "    \"Date\": \"date\",\n",
    "    \"Number of new cases\":\"noOfNewCases\",\n",
    "    \"Number of new Hospital Admissions\":\"noOfNewHospitalAdmissions\",\n",
    "    \"Number of new deaths\":\"noOfNewDeaths\"\n",
    "}\n",
    "\n",
    "struct_to_legend_dictionary=dict(list(zip(legend_to_struct_dictionary.values(), legend_to_struct_dictionary.keys())))"
   ]
  },
  {
   "cell_type": "code",
   "execution_count": 7,
   "metadata": {
    "scrolled": true
   },
   "outputs": [],
   "source": [
    "data.rename(columns=struct_to_legend_dictionary, inplace=True)"
   ]
  },
  {
   "cell_type": "code",
   "execution_count": 45,
   "metadata": {
    "scrolled": true
   },
   "outputs": [],
   "source": [
    "lines_to_print=wdg.SelectMultiple(\n",
    "    options=[\"Number of cases\", \"Number of admissions\", \"Number of deaths\"],\n",
    "    value=[\"Number of cases\", \"Number of admissions\", \"Number of deaths\"],\n",
    "    rows=3,\n",
    "    description='Stats:',\n",
    "    disabled=False,\n",
    "    layout=Layout(justify_content='center')\n",
    ")"
   ]
  },
  {
   "cell_type": "code",
   "execution_count": 46,
   "metadata": {
    "scrolled": false
   },
   "outputs": [
    {
     "data": {
      "application/vnd.jupyter.widget-view+json": {
       "model_id": "2e5081537a274cfb8368d1abad0f7f88",
       "version_major": 2,
       "version_minor": 0
      },
      "text/plain": [
       "SelectMultiple(description='Stats:', index=(0, 1, 2), layout=Layout(justify_content='center', padding='20px'),…"
      ]
     },
     "metadata": {},
     "output_type": "display_data"
    }
   ],
   "source": [
    "controls=display(lines_to_print)"
   ]
  },
  {
   "cell_type": "code",
   "execution_count": 47,
   "metadata": {
    "scrolled": true
   },
   "outputs": [],
   "source": [
    "\n",
    "graph=wdg.interactive_output(time_series_graph, {'lines':lines_to_print})\n",
    "text_to_print=wdg.interactive_output(num_of_cumulative_cases_text, {'obs':lines_to_print})"
   ]
  },
  {
   "cell_type": "code",
   "execution_count": 66,
   "metadata": {},
   "outputs": [],
   "source": [
    "grid=GridspecLayout(5,2)\n",
    "grid[:,0]=graph\n",
    "grid[2:,1] = text_to_print\n",
    "grid[1,1] = lines_to_print"
   ]
  },
  {
   "cell_type": "code",
   "execution_count": 67,
   "metadata": {},
   "outputs": [
    {
     "data": {
      "application/vnd.jupyter.widget-view+json": {
       "model_id": "e2607ab04f174ed5a3d92995125cc3ff",
       "version_major": 2,
       "version_minor": 0
      },
      "text/plain": [
       "GridspecLayout(children=(Output(layout=Layout(grid_area='widget001'), outputs=({'output_type': 'display_data',…"
      ]
     },
     "metadata": {},
     "output_type": "display_data"
    }
   ],
   "source": [
    "display(grid)"
   ]
  },
  {
   "cell_type": "code",
   "execution_count": 8,
   "metadata": {},
   "outputs": [
    {
     "data": {
      "text/html": [
       "<div>\n",
       "<style scoped>\n",
       "    .dataframe tbody tr th:only-of-type {\n",
       "        vertical-align: middle;\n",
       "    }\n",
       "\n",
       "    .dataframe tbody tr th {\n",
       "        vertical-align: top;\n",
       "    }\n",
       "\n",
       "    .dataframe thead th {\n",
       "        text-align: right;\n",
       "    }\n",
       "</style>\n",
       "<table border=\"1\" class=\"dataframe\">\n",
       "  <thead>\n",
       "    <tr style=\"text-align: right;\">\n",
       "      <th></th>\n",
       "      <th>Number of new cases</th>\n",
       "      <th>Number of cases</th>\n",
       "      <th>Number of new Hospital Admissions</th>\n",
       "      <th>Number of admissions</th>\n",
       "      <th>Number of new deaths</th>\n",
       "      <th>Number of deaths</th>\n",
       "    </tr>\n",
       "  </thead>\n",
       "  <tbody>\n",
       "    <tr>\n",
       "      <th>2020-01-03</th>\n",
       "      <td>0</td>\n",
       "      <td>NaN</td>\n",
       "      <td>NaN</td>\n",
       "      <td>NaN</td>\n",
       "      <td>NaN</td>\n",
       "      <td>NaN</td>\n",
       "    </tr>\n",
       "    <tr>\n",
       "      <th>2020-01-04</th>\n",
       "      <td>0</td>\n",
       "      <td>NaN</td>\n",
       "      <td>NaN</td>\n",
       "      <td>NaN</td>\n",
       "      <td>NaN</td>\n",
       "      <td>NaN</td>\n",
       "    </tr>\n",
       "    <tr>\n",
       "      <th>2020-01-05</th>\n",
       "      <td>0</td>\n",
       "      <td>NaN</td>\n",
       "      <td>NaN</td>\n",
       "      <td>NaN</td>\n",
       "      <td>NaN</td>\n",
       "      <td>NaN</td>\n",
       "    </tr>\n",
       "    <tr>\n",
       "      <th>2020-01-06</th>\n",
       "      <td>0</td>\n",
       "      <td>NaN</td>\n",
       "      <td>NaN</td>\n",
       "      <td>NaN</td>\n",
       "      <td>NaN</td>\n",
       "      <td>NaN</td>\n",
       "    </tr>\n",
       "    <tr>\n",
       "      <th>2020-01-07</th>\n",
       "      <td>0</td>\n",
       "      <td>NaN</td>\n",
       "      <td>NaN</td>\n",
       "      <td>NaN</td>\n",
       "      <td>NaN</td>\n",
       "      <td>NaN</td>\n",
       "    </tr>\n",
       "    <tr>\n",
       "      <th>...</th>\n",
       "      <td>...</td>\n",
       "      <td>...</td>\n",
       "      <td>...</td>\n",
       "      <td>...</td>\n",
       "      <td>...</td>\n",
       "      <td>...</td>\n",
       "    </tr>\n",
       "    <tr>\n",
       "      <th>2020-11-18</th>\n",
       "      <td>19609</td>\n",
       "      <td>1.43034e+06</td>\n",
       "      <td>1746</td>\n",
       "      <td>205152</td>\n",
       "      <td>407</td>\n",
       "      <td>54411</td>\n",
       "    </tr>\n",
       "    <tr>\n",
       "      <th>2020-11-19</th>\n",
       "      <td>22915</td>\n",
       "      <td>1.45326e+06</td>\n",
       "      <td>NaN</td>\n",
       "      <td>NaN</td>\n",
       "      <td>340</td>\n",
       "      <td>54751</td>\n",
       "    </tr>\n",
       "    <tr>\n",
       "      <th>2020-11-20</th>\n",
       "      <td>20252</td>\n",
       "      <td>1.47351e+06</td>\n",
       "      <td>NaN</td>\n",
       "      <td>NaN</td>\n",
       "      <td>NaN</td>\n",
       "      <td>NaN</td>\n",
       "    </tr>\n",
       "    <tr>\n",
       "      <th>2020-11-21</th>\n",
       "      <td>19875</td>\n",
       "      <td>1.49338e+06</td>\n",
       "      <td>NaN</td>\n",
       "      <td>NaN</td>\n",
       "      <td>NaN</td>\n",
       "      <td>NaN</td>\n",
       "    </tr>\n",
       "    <tr>\n",
       "      <th>2020-11-22</th>\n",
       "      <td>18662</td>\n",
       "      <td>1.51204e+06</td>\n",
       "      <td>NaN</td>\n",
       "      <td>NaN</td>\n",
       "      <td>NaN</td>\n",
       "      <td>NaN</td>\n",
       "    </tr>\n",
       "  </tbody>\n",
       "</table>\n",
       "<p>325 rows × 6 columns</p>\n",
       "</div>"
      ],
      "text/plain": [
       "           Number of new cases Number of cases  \\\n",
       "2020-01-03                   0             NaN   \n",
       "2020-01-04                   0             NaN   \n",
       "2020-01-05                   0             NaN   \n",
       "2020-01-06                   0             NaN   \n",
       "2020-01-07                   0             NaN   \n",
       "...                        ...             ...   \n",
       "2020-11-18               19609     1.43034e+06   \n",
       "2020-11-19               22915     1.45326e+06   \n",
       "2020-11-20               20252     1.47351e+06   \n",
       "2020-11-21               19875     1.49338e+06   \n",
       "2020-11-22               18662     1.51204e+06   \n",
       "\n",
       "           Number of new Hospital Admissions Number of admissions  \\\n",
       "2020-01-03                               NaN                  NaN   \n",
       "2020-01-04                               NaN                  NaN   \n",
       "2020-01-05                               NaN                  NaN   \n",
       "2020-01-06                               NaN                  NaN   \n",
       "2020-01-07                               NaN                  NaN   \n",
       "...                                      ...                  ...   \n",
       "2020-11-18                              1746               205152   \n",
       "2020-11-19                               NaN                  NaN   \n",
       "2020-11-20                               NaN                  NaN   \n",
       "2020-11-21                               NaN                  NaN   \n",
       "2020-11-22                               NaN                  NaN   \n",
       "\n",
       "           Number of new deaths Number of deaths  \n",
       "2020-01-03                  NaN              NaN  \n",
       "2020-01-04                  NaN              NaN  \n",
       "2020-01-05                  NaN              NaN  \n",
       "2020-01-06                  NaN              NaN  \n",
       "2020-01-07                  NaN              NaN  \n",
       "...                         ...              ...  \n",
       "2020-11-18                  407            54411  \n",
       "2020-11-19                  340            54751  \n",
       "2020-11-20                  NaN              NaN  \n",
       "2020-11-21                  NaN              NaN  \n",
       "2020-11-22                  NaN              NaN  \n",
       "\n",
       "[325 rows x 6 columns]"
      ]
     },
     "execution_count": 8,
     "metadata": {},
     "output_type": "execute_result"
    }
   ],
   "source": [
    "data"
   ]
  },
  {
   "cell_type": "code",
   "execution_count": 10,
   "metadata": {},
   "outputs": [],
   "source": [
    "for col in data.columns:\n",
    "    data[col].values[:] = 1"
   ]
  },
  {
   "cell_type": "code",
   "execution_count": 9,
   "metadata": {},
   "outputs": [
    {
     "data": {
      "application/vnd.jupyter.widget-view+json": {
       "model_id": "cadb245474484b38a3bc411551b3d3be",
       "version_major": 2,
       "version_minor": 0
      },
      "text/plain": [
       "interactive(children=(SelectMultiple(description='lines', options=('Number of cases', 'Number of admissions', …"
      ]
     },
     "metadata": {},
     "output_type": "display_data"
    }
   ],
   "source": [
    "import ipywidgets as wdg\n",
    "\n",
    "@wdg.interact(lines=wdg.SelectMultiple(options=[\"Number of cases\", \"Number of admissions\", \"Number of deaths\"]))\n",
    "def time_series_graph(lines):\n",
    "    print(lines)\n",
    "    n_lines=len(lines)\n",
    "    if n_lines>0:\n",
    "        data[list(lines)].plot()\n",
    "    else:\n",
    "        print(\"Select the data you want to print.\")"
   ]
  },
  {
   "cell_type": "code",
   "execution_count": null,
   "metadata": {},
   "outputs": [],
   "source": []
  }
 ],
 "metadata": {
  "kernelspec": {
   "display_name": "Python 3",
   "language": "python",
   "name": "python3"
  },
  "language_info": {
   "codemirror_mode": {
    "name": "ipython",
    "version": 3
   },
   "file_extension": ".py",
   "mimetype": "text/x-python",
   "name": "python",
   "nbconvert_exporter": "python",
   "pygments_lexer": "ipython3",
   "version": "3.8.3"
  }
 },
 "nbformat": 4,
 "nbformat_minor": 4
}
